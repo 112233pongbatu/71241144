{
  "nbformat": 4,
  "nbformat_minor": 0,
  "metadata": {
    "colab": {
      "provenance": [],
      "toc_visible": true,
      "authorship_tag": "ABX9TyMhfWgj1GBy/utISbrGmcM7",
      "include_colab_link": true
    },
    "kernelspec": {
      "name": "python3",
      "display_name": "Python 3"
    },
    "language_info": {
      "name": "python"
    }
  },
  "cells": [
    {
      "cell_type": "markdown",
      "metadata": {
        "id": "view-in-github",
        "colab_type": "text"
      },
      "source": [
        "<a href=\"https://colab.research.google.com/github/112233pongbatu/71241144/blob/main/tugas_1.ipynb\" target=\"_parent\"><img src=\"https://colab.research.google.com/assets/colab-badge.svg\" alt=\"Open In Colab\"/></a>"
      ]
    },
    {
      "cell_type": "code",
      "execution_count": null,
      "metadata": {
        "id": "XHwcuYOqvuK7"
      },
      "outputs": [],
      "source": []
    },
    {
      "cell_type": "markdown",
      "source": [
        " 1. Bagaimana cara anda membuat tulisan Libraries, Fungsi, Pengambilan Data dan Charting seperti pada gambar di atas?\n",
        "\n",
        "Tulisan tersebut dibuat dengan Markdown/Text Cell, bukan Code Cell.\n",
        "\n",
        "Caranya di Google Colab:\n",
        "\n",
        "Klik + Text.\n",
        "\n",
        "Tulis dengan Markdown:\n",
        "\n",
        "# Libraries\n",
        "## Fungsi\n",
        "## Pengambilan Data\n",
        "## Charting\n",
        "\n",
        "\n",
        "Jalankan cell untuk menampilkan judul.\n",
        "\n",
        "Heading # untuk judul besar, ## untuk subjudul, ### untuk sub-subjudul.\n",
        "\n",
        "2. Hierarki dari isi Notebook dapat ditampilkan dengan cara apa? Bagaimana cara melihatnya?\n",
        "\n",
        "Hierarki ditampilkan dengan Table of Contents (Daftar Isi).\n",
        "\n",
        "Di Google Colab, bisa klik menu View → Table of contents atau klik ikon daftar isi di sebelah kiri.\n",
        "\n",
        "Hierarki otomatis dibuat dari heading Markdown (#, ##, ###).\n",
        "\n",
        "3. Mengapa penambahan tulisan judul/header dapat membuat program jadi lebih terstruktur dan mudah dipahami?\n",
        "\n",
        "Karena header berfungsi sebagai pembatas bagian dalam notebook.\n",
        "\n",
        "Manfaatnya:\n",
        "\n",
        "Membuat program lebih rapi dan terorganisir.\n",
        "\n",
        "Memudahkan pembaca memahami alur: mulai dari Libraries → Fungsi → Data → Charting.\n",
        "\n",
        "Jadi semacam dokumentasi internal yang menjelaskan isi notebook tanpa harus membaca semua kode detail."
      ],
      "metadata": {
        "id": "2MgYA-tXxCQ5"
      }
    },
    {
      "cell_type": "markdown",
      "source": [
        "# Bagian Baru"
      ],
      "metadata": {
        "id": "AUi882MLySZZ"
      }
    }
  ]
}